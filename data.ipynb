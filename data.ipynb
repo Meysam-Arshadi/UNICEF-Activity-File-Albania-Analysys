{
 "cells": [
  {
   "cell_type": "code",
   "execution_count": 7,
   "metadata": {
    "tags": []
   },
   "outputs": [],
   "source": [
    "# The first feedback item: The budget status is invalid.\n",
    "\n",
    "# \"\" is not a valid value for attribute @status, in element <budget>\n",
    "\n",
    "# According to IATI documentation the @status attribute for xml element Budget:\n",
    "  # Must be of type xsd:string.\n",
    " # Must be on the BudgetStatus codelist:\n",
    "   # Code: 1, Name:Original, Description: The original budget allocated to the activity\n",
    "   # Code: 2, Name: Revised, description: The updated budget for an activity\n",
    " # If the @status attribute is not present, the budget is assumed to be Indicative: Code 1."
   ]
  },
  {
   "cell_type": "code",
   "execution_count": 8,
   "metadata": {},
   "outputs": [],
   "source": [
    "# Importing necessary libraries\n",
    "import xml.etree.ElementTree as ET\n",
    "\n",
    "# Loading the XML file with the activity data\n",
    "file_path = \"data/iatiActivity_Albania.xml\" \n",
    "tree = ET.parse(file_path)\n",
    "root = tree.getroot()\n",
    "\n",
    "# Defining the invalid status value from the feedback item\n",
    "invalid_status_value = \"\"\n",
    "\n",
    "# Iterating through budget elements and update invalid status values.\n",
    "\n",
    "for budget_elem in root.findall(\".//budget[@status='{}']\".format(invalid_status_value)):\n",
    "    # Updating the status to valid value '1' (Indicative)\n",
    "    budget_elem.set(\"status\", \"1\")\n",
    "\n",
    "# Saving the updated XML file\n",
    "tree.write(\"data/updated_albania_activities.xml.xml\")  "
   ]
  },
  {
   "cell_type": "code",
   "execution_count": null,
   "metadata": {},
   "outputs": [],
   "source": [
    "# checking if the updated XML file has empty strings for budget @status:\n",
    "\n",
    "# Loading the updated XML file\n",
    "updated_file_path = \"data/updated_albania_activities.xml.xml\"  \n",
    "updated_tree = ET.parse(updated_file_path)\n",
    "updated_root = updated_tree.getroot()\n",
    "\n",
    "# Iterating through budget elements and check the @status values\n",
    "for budget_elem in updated_root.findall(\".//budget\"):\n",
    "    status_value = budget_elem.get(\"status\", \"\")\n",
    "    if status_value == \"\":\n",
    "        print(f\"Empty status value found in budget element: {ET.tostring(budget_elem).decode()}\")\n",
    "    else:\n",
    "        print(f\"Valid status value found in budget element: {status_value}\")\n"
   ]
  },
  {
   "cell_type": "code",
   "execution_count": null,
   "metadata": {},
   "outputs": [],
   "source": [
    "# The second feedback item: The activity scope code is invalid.\n",
    "\n",
    "# \"NO\" is not a valid value for attribute @code, in element <activity-scope>\n",
    "\n",
    "# According to IATI documentation the @code attribute for activity-scope:\n",
    " # This attribute is required.\n",
    " # This value must be of type xsd:string.\n",
    " # This value must be on the ActivityScope codelist (Code 1 to Cofde 8)\n",
    "  "
   ]
  },
  {
   "cell_type": "code",
   "execution_count": 10,
   "metadata": {},
   "outputs": [],
   "source": [
    "# Defining valid activity scope codes based on the guidance documentation:\n",
    "valid_activity_scope_codes = set([\"1\", \"2\", \"3\", \"4\", \"5\", \"6\", \"7\", \"8\"])\n",
    "\n",
    "# Iterating through activity-scope elements and update invalid code values\n",
    "for activity_scope_elem in updated_root.findall(\".//activity-scope[@code]\"):\n",
    "    code_value = activity_scope_elem.get(\"code\", \"\")\n",
    "    if code_value not in valid_activity_scope_codes:\n",
    "        # Replace the invalid code with a valid code, e.g., '1' for Global\n",
    "        activity_scope_elem.set(\"code\", \"1\")\n",
    "\n",
    "# Save the XML file with the corrected activity-scope codes\n",
    "updated_tree.write(\"data/updated_albania_activities.xml.xml\")\n"
   ]
  },
  {
   "cell_type": "code",
   "execution_count": null,
   "metadata": {},
   "outputs": [],
   "source": [
    "# checking if the updated XML file activity-scope element has invalid values:\n",
    "\n",
    "# Loading the updated XML file\n",
    "updated_tree = ET.parse(\"data/updated_albania_activities.xml.xml\")  \n",
    "updated_root = updated_tree.getroot()\n",
    "\n",
    "# Printing activity-scope codes for verification\n",
    "for activity_scope_elem in updated_root.findall(\".//activity-scope[@code]\"):\n",
    "    code_value = activity_scope_elem.get(\"code\", \"\")\n",
    "    print(f\"Activity-Scope Code: {code_value}\")\n"
   ]
  },
  {
   "cell_type": "code",
   "execution_count": null,
   "metadata": {},
   "outputs": [],
   "source": [
    "# The third feedback item: The activity scope code is invalid.\n",
    "\n",
    "# \"NO\" is not a valid value for attribute @code, in element <activity-scope>\n",
    "\n",
    "# According to IATI documentation the @code attribute for activity-scope:\n",
    " # This attribute is required.\n",
    " # This value must be of type xsd:string.\n",
    " # This value must be on the ActivityScope codelist (Code 1 to Cofde 8)"
   ]
  }
 ],
 "metadata": {
  "kernelspec": {
   "display_name": "Python 3 (ipykernel)",
   "language": "python",
   "name": "python3"
  },
  "language_info": {
   "codemirror_mode": {
    "name": "ipython",
    "version": 3
   },
   "file_extension": ".py",
   "mimetype": "text/x-python",
   "name": "python",
   "nbconvert_exporter": "python",
   "pygments_lexer": "ipython3",
   "version": "3.11.5"
  }
 },
 "nbformat": 4,
 "nbformat_minor": 2
}
