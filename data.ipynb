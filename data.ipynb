{
 "cells": [
  {
   "cell_type": "code",
   "execution_count": 1,
   "metadata": {
    "tags": []
   },
   "outputs": [],
   "source": [
    "# The first feedback item:\n",
    "\n",
    "# IATI Validator Error:\n",
    " # The budget status is invalid.\n",
    " # \"\" is not a valid value for attribute @status, in element <budget>\n",
    "\n",
    "# IATI CoVE Error: Sorry your data contains values in embedded codelists that do not exist in the standard. \n",
    "# Error location: iati-activity/budget/@status\n",
    "\n",
    "# According to VERSION 2.02 of IATI Standard Reference /activity-standard/iati-activities/iati-activity/budget @status attribute for xml element Budget: \n",
    "  # Must be of type xsd:string.\n",
    "  # Must be on the following BudgetStatus codelist:\n",
    "   # Code: 1, Name:Original, Description: The original budget allocated to the activity\n",
    "   # Code: 2, Name: Revised, description: The updated budget for an activity\n",
    " # If the @status attribute is not present, the budget is assumed to be Indicative: Code 1."
   ]
  },
  {
   "cell_type": "code",
   "execution_count": 2,
   "metadata": {},
   "outputs": [],
   "source": [
    "# Importing necessary libraries\n",
    "import xml.etree.ElementTree as ET\n",
    "\n",
    "# Loading the XML file with the activity data\n",
    "file_path = \"data/iatiActivity_Albania.xml\" \n",
    "tree = ET.parse(file_path)\n",
    "root = tree.getroot()\n",
    "\n",
    "# Defining the invalid status value from the feedback item\n",
    "invalid_status_value = \"\"\n",
    "\n",
    "# Iterating through budget elements and update invalid status values.\n",
    "\n",
    "for budget_elem in root.findall(\".//budget[@status='{}']\".format(invalid_status_value)):\n",
    "    # Updating the status to valid value '1' (Indicative)\n",
    "    budget_elem.set(\"status\", \"1\")\n",
    "\n",
    "# Saving the updated XML file\n",
    "tree.write(\"data/updated_albania_activities.xml\")  "
   ]
  },
  {
   "cell_type": "code",
   "execution_count": 3,
   "metadata": {},
   "outputs": [],
   "source": [
    "# checking if the updated XML file has empty strings for budget @status:\n",
    "\n",
    "# Loading the updated XML file\n",
    "updated_file_path = \"data/updated_albania_activities.xml\"  \n",
    "updated_tree = ET.parse(updated_file_path)\n",
    "updated_root = updated_tree.getroot()\n",
    "\n",
    "# Iterating through budget elements and printing those with empty @status values\n",
    "for budget_elem in updated_root.findall(\".//budget\"):\n",
    "    status_value = budget_elem.get(\"status\", \"\")\n",
    "    if status_value == \"\":\n",
    "        print(f\"Empty status value found in budget element: {ET.tostring(budget_elem).decode()}\")\n",
    "\n",
    "# If nothing is printed, it means there are no budget elements with empty @status values\n"
   ]
  },
  {
   "cell_type": "code",
   "execution_count": 16,
   "metadata": {},
   "outputs": [],
   "source": [
    "# The second feedback item:\n",
    "\n",
    "# IATI Validator Error:\n",
    " # The activity scope code is invalid.\n",
    " # \"Yes\" is not a valid value for attribute @code, in element <activity-scope>\n",
    "\n",
    "# IATI CoVE Error: Sorry your data contains values in embedded codelists that do not exist in the standard.\n",
    "# Error location: iati-activity/activity-scope/@code\n",
    "\n",
    "# According to VERSION 2.02 of IATI Standard Reference /activity-standard/iati-activities/iati-activity/activity-scope/ @code attribute for xml element Budget:\n",
    " # This attribute is required.\n",
    " # This value must be of type xsd:string.\n",
    " # This value must be on the ActivityScope codelist: (Code 1 to Cofde 8)"
   ]
  },
  {
   "cell_type": "code",
   "execution_count": 5,
   "metadata": {},
   "outputs": [],
   "source": [
    "# Defining valid activity scope codes based on the guidance documentation:\n",
    "valid_activity_scope_codes = set([\"1\", \"2\", \"3\", \"4\", \"5\", \"6\", \"7\", \"8\"])\n",
    "\n",
    "# Iterating through activity-scope elements and update invalid code values\n",
    "for activity_scope_elem in updated_root.findall(\".//activity-scope[@code]\"):\n",
    "    code_value = activity_scope_elem.get(\"code\", \"\")\n",
    "    if code_value not in valid_activity_scope_codes:\n",
    "        # Replace the invalid code with a valid code, e.g., '1' for Global\n",
    "        activity_scope_elem.set(\"code\", \"1\")\n",
    "\n",
    "# Save the XML file with the corrected activity-scope codes\n",
    "updated_tree.write(\"data/updated_albania_activities.xml\")\n"
   ]
  },
  {
   "cell_type": "code",
   "execution_count": 6,
   "metadata": {},
   "outputs": [],
   "source": [
    "# checking if the updated XML file activity-scope element has invalid values:\n",
    "\n",
    "# Loading the updated XML file\n",
    "updated_tree = ET.parse(\"data/updated_albania_activities.xml\")  \n",
    "updated_root = updated_tree.getroot()\n",
    "\n",
    "# Defining valid activity scope codes based on the guidance documentation\n",
    "valid_activity_scope_codes = set([\"1\", \"2\", \"3\", \"4\", \"5\", \"6\", \"7\", \"8\"])\n",
    "\n",
    "# Printing activity-scope elements with invalid code values\n",
    "for activity_scope_elem in updated_root.findall(\".//activity-scope[@code]\"):\n",
    "    code_value = activity_scope_elem.get(\"code\", \"\")\n",
    "    if code_value not in valid_activity_scope_codes:\n",
    "        print(f\"Invalid Activity-Scope Code: {code_value}\")\n",
    "\n",
    "# If nothing is printed, it means all activity-scope codes are valid\n"
   ]
  },
  {
   "cell_type": "code",
   "execution_count": 7,
   "metadata": {},
   "outputs": [],
   "source": [
    "# The third feedback item:\n",
    "\n",
    "# Ruleset Error: Elements must use a valid format\n",
    "\n",
    "# Rule: identifier/text() should match the regex [^\\:\\&\\|\\?]+\n",
    "\n",
    "# At: https://iatistandard.org/en/guidance/standard-overview/preparing-your-data/activity-information/creating-iati-identifiers/\n",
    "\n",
    "\n",
    "# According to IATI documentation rules and guidance on Creating IATI Activity Identifires, all identifire must:\n",
    "\n",
    " # Each IATI identifier you publish is unique. This covers all of your activities even if they are in separate files.\n",
    " # Each IATI identifier should not start or end with whitespace.\n",
    " # Only use numbers, letters and dashes to form your IATI Identifiers.\n",
    " # Once you have published an activity its IATI identifier must not change."
   ]
  },
  {
   "cell_type": "code",
   "execution_count": 14,
   "metadata": {},
   "outputs": [],
   "source": [
    "import re\n",
    "\n",
    "# Loading the updated XML file\n",
    "updated_tree = ET.parse(\"data/updated_albania_activities.xml\")  \n",
    "updated_root = updated_tree.getroot()\n",
    "\n",
    "# Defining the regex pattern for the identifier element\n",
    "identifier_regex_pattern = re.compile(r'^[a-zA-Z0-9]+(?:-[a-zA-Z0-9]+)*$')\n",
    "\n",
    "# Iterating through identifier elements and updating the text based on the regex pattern\n",
    "for identifier_elem in updated_root.findall(\".//iati-identifier\"):\n",
    "    current_text = identifier_elem.text\n",
    "    if current_text is not None and not identifier_regex_pattern.fullmatch(current_text):\n",
    "        # Replacing invalid characters with an empty string\n",
    "        updated_text = re.sub(r'[^a-zA-Z0-9-]', '', current_text)\n",
    "        identifier_elem.text = updated_text\n",
    "\n",
    "# Saving the XML file with the corrected identifier values\n",
    "updated_tree.write(\"data/updated_albania_activities.xml\")\n",
    "\n"
   ]
  },
  {
   "cell_type": "code",
   "execution_count": 15,
   "metadata": {},
   "outputs": [],
   "source": [
    "# checking if the updated XML file identifier/text() element has invalid identifier values:\n",
    "\n",
    "# Loading the updated XML file\n",
    "updated_tree = ET.parse(\"data/updated_albania_activities.xml\")\n",
    "updated_root = updated_tree.getroot()\n",
    "\n",
    "# Defining the regex pattern for the identifier element\n",
    "identifier_regex_pattern = re.compile(r'^[a-zA-Z0-9]+(?:-[a-zA-Z0-9]+)*$')\n",
    "\n",
    "# Checking for invalid identifier values\n",
    "invalid_identifiers = [elem.text for elem in updated_root.findall(\".//iati-identifier\") if not identifier_regex_pattern.fullmatch(elem.text)]\n",
    "\n",
    "# Printing invalid identifier values\n",
    "for invalid_identifier in invalid_identifiers:\n",
    "    print(f\"Invalid IATI Identifier Value: {invalid_identifier}\")\n",
    "\"\" is not a valid value for attribute @status, in element <budget>"
   ]
  }
 ],
 "metadata": {
  "kernelspec": {
   "display_name": "Python 3 (ipykernel)",
   "language": "python",
   "name": "python3"
  },
  "language_info": {
   "codemirror_mode": {
    "name": "ipython",
    "version": 3
   },
   "file_extension": ".py",
   "mimetype": "text/x-python",
   "name": "python",
   "nbconvert_exporter": "python",
   "pygments_lexer": "ipython3",
   "version": "3.11.5"
  }
 },
 "nbformat": 4,
 "nbformat_minor": 2
}
